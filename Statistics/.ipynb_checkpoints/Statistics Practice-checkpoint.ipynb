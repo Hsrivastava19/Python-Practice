{
 "cells": [
  {
   "cell_type": "code",
   "execution_count": 1,
   "id": "84722667",
   "metadata": {},
   "outputs": [],
   "source": [
    "import random\n",
    "from scipy import stats\n",
    "import numpy\n",
    "import matplotlib.pyplot as plt\n"
   ]
  },
  {
   "cell_type": "markdown",
   "id": "7c8c0c4e",
   "metadata": {},
   "source": [
    "# Trying Random Integer function"
   ]
  },
  {
   "cell_type": "code",
   "execution_count": 2,
   "id": "24211b53",
   "metadata": {},
   "outputs": [
    {
     "name": "stdout",
     "output_type": "stream",
     "text": [
      "40\n",
      "14\n",
      "15\n",
      "19\n",
      "7\n",
      "42\n",
      "6\n",
      "50\n",
      "1\n",
      "4\n",
      "41\n",
      "47\n",
      "3\n",
      "12\n",
      "38\n",
      "38\n",
      "50\n",
      "32\n",
      "11\n",
      "18\n",
      "44\n",
      "13\n",
      "23\n",
      "34\n",
      "45\n",
      "42\n",
      "5\n",
      "50\n",
      "18\n",
      "15\n",
      "49\n",
      "24\n",
      "5\n",
      "26\n",
      "50\n",
      "9\n",
      "31\n",
      "38\n",
      "36\n",
      "44\n",
      "31\n",
      "8\n",
      "3\n",
      "16\n",
      "17\n",
      "5\n",
      "17\n",
      "30\n",
      "41\n",
      "16\n",
      "6\n",
      "22\n",
      "1\n",
      "21\n",
      "44\n",
      "39\n",
      "39\n",
      "18\n",
      "35\n"
     ]
    }
   ],
   "source": [
    "while(True):\n",
    "    a= random.randint(1,50)\n",
    "    print(a)\n",
    "    if(a==35):\n",
    "        break\n",
    "\n"
   ]
  },
  {
   "cell_type": "code",
   "execution_count": 3,
   "id": "642bcd91",
   "metadata": {},
   "outputs": [
    {
     "name": "stdout",
     "output_type": "stream",
     "text": [
      "[45, 14, 9, 23, 31, 45, 4, 11, 5, 27]\n",
      "Mean: 21.4\n",
      "Median: 18.5\n",
      "Standard Deviation 14.589036979869508\n"
     ]
    }
   ],
   "source": [
    "values = [random.randint(0,50) for i in range(10)]\n",
    "print(values)\n",
    "average= numpy.mean(values)\n",
    "median= numpy.median(values)\n",
    "Std = numpy.std(values)\n",
    "print(f\"Mean: {average}\\nMedian: {median}\\nStandard Deviation {Std}\")"
   ]
  },
  {
   "cell_type": "markdown",
   "id": "2813f580",
   "metadata": {},
   "source": [
    "## Drawing a Histogram"
   ]
  },
  {
   "cell_type": "code",
   "execution_count": 4,
   "id": "b73d2f74",
   "metadata": {},
   "outputs": [
    {
     "data": {
      "text/plain": [
       "(array([1023., 1010., 1041.,  960.,  935.,  966.,  996.,  984.,  949.,\n",
       "        1041.,  988., 1008., 1061., 1011., 1021., 1020.,  971.,  996.,\n",
       "         989.,  994., 1002., 1004.,  975., 1019., 1016.,  971., 1014.,\n",
       "        1025.,  984., 1020.,  993.,  991.,  976.,  995., 1028.,  974.,\n",
       "         981.,  966., 1050., 1020., 1007.,  938.,  967.,  929.,  983.,\n",
       "        1028.,  977., 1011., 1000., 1056., 1016., 1023.,  966.,  958.,\n",
       "         934., 1056.,  991., 1008.,  995., 1036., 1048., 1015.,  991.,\n",
       "         999.,  916., 1056.,  986., 1009.,  962.,  956., 1001., 1007.,\n",
       "        1000., 1036.,  981., 1014.,  967., 1076., 1002.,  967., 1032.,\n",
       "         997.,  997., 1054., 1034., 1038.,  997., 1013., 1006.,  973.,\n",
       "         950.,  995.,  979.,  945., 1066.,  961., 1020., 1042., 1019.,\n",
       "        1046.]),\n",
       " array([1.00003477, 1.09002902, 1.18002328, 1.27001753, 1.36001179,\n",
       "        1.45000604, 1.5400003 , 1.62999455, 1.71998881, 1.80998306,\n",
       "        1.89997732, 1.98997157, 2.07996583, 2.16996008, 2.25995434,\n",
       "        2.34994859, 2.43994285, 2.5299371 , 2.61993136, 2.70992561,\n",
       "        2.79991987, 2.88991413, 2.97990838, 3.06990264, 3.15989689,\n",
       "        3.24989115, 3.3398854 , 3.42987966, 3.51987391, 3.60986817,\n",
       "        3.69986242, 3.78985668, 3.87985093, 3.96984519, 4.05983944,\n",
       "        4.1498337 , 4.23982795, 4.32982221, 4.41981646, 4.50981072,\n",
       "        4.59980497, 4.68979923, 4.77979348, 4.86978774, 4.95978199,\n",
       "        5.04977625, 5.1397705 , 5.22976476, 5.31975901, 5.40975327,\n",
       "        5.49974752, 5.58974178, 5.67973603, 5.76973029, 5.85972454,\n",
       "        5.9497188 , 6.03971305, 6.12970731, 6.21970156, 6.30969582,\n",
       "        6.39969007, 6.48968433, 6.57967858, 6.66967284, 6.7596671 ,\n",
       "        6.84966135, 6.93965561, 7.02964986, 7.11964412, 7.20963837,\n",
       "        7.29963263, 7.38962688, 7.47962114, 7.56961539, 7.65960965,\n",
       "        7.7496039 , 7.83959816, 7.92959241, 8.01958667, 8.10958092,\n",
       "        8.19957518, 8.28956943, 8.37956369, 8.46955794, 8.5595522 ,\n",
       "        8.64954645, 8.73954071, 8.82953496, 8.91952922, 9.00952347,\n",
       "        9.09951773, 9.18951198, 9.27950624, 9.36950049, 9.45949475,\n",
       "        9.549489  , 9.63948326, 9.72947751, 9.81947177, 9.90946602,\n",
       "        9.99946028]),\n",
       " <BarContainer object of 100 artists>)"
      ]
     },
     "execution_count": 4,
     "metadata": {},
     "output_type": "execute_result"
    },
    {
     "data": {
      "image/png": "[encoded data removed]",
      "text/plain": [
       "<Figure size 432x288 with 1 Axes>"
      ]
     },
     "metadata": {
      "needs_background": "light"
     },
     "output_type": "display_data"
    }
   ],
   "source": [
    "ds = numpy.random.uniform(1,10,100000)\n",
    "\n",
    "plt.hist(ds,100)"
   ]
  },
  {
   "cell_type": "markdown",
   "id": "aeb26078",
   "metadata": {},
   "source": [
    "## Normal Distribution"
   ]
  },
  {
   "cell_type": "code",
   "execution_count": 5,
   "id": "1cd72643",
   "metadata": {},
   "outputs": [
    {
     "name": "stdout",
     "output_type": "stream",
     "text": [
      "100000\n"
     ]
    },
    {
     "data": {
      "image/png": "[encoded data removed]",
      "text/plain": [
       "<Figure size 432x288 with 1 Axes>"
      ]
     },
     "metadata": {
      "needs_background": "light"
     },
     "output_type": "display_data"
    }
   ],
   "source": [
    "nd = numpy.random.normal(10,1,100000)\n",
    "print(len(nd))\n",
    "plt.hist(nd,100)\n",
    "plt.show()"
   ]
  },
  {
   "cell_type": "markdown",
   "id": "4aafdb7b",
   "metadata": {},
   "source": [
    "## Scatter Plot"
   ]
  },
  {
   "cell_type": "code",
   "execution_count": 6,
   "id": "1913f91f",
   "metadata": {},
   "outputs": [
    {
     "data": {
      "text/plain": [
       "<matplotlib.collections.PathCollection at 0x14782c4bcd0>"
      ]
     },
     "execution_count": 6,
     "metadata": {},
     "output_type": "execute_result"
    },
    {
     "data": {
      "image/png": "[encoded data removed]",
      "text/plain": [
       "<Figure size 432x288 with 1 Axes>"
      ]
     },
     "metadata": {
      "needs_background": "light"
     },
     "output_type": "display_data"
    }
   ],
   "source": [
    "# x=y^2\n",
    "y = [int(i) for i in range(500)]\n",
    "x= list(map(lambda n : n**2, y))\n",
    "plt.scatter(x,y)"
   ]
  },
  {
   "cell_type": "code",
   "execution_count": 7,
   "id": "71304e52",
   "metadata": {},
   "outputs": [
    {
     "data": {
      "text/plain": [
       "<matplotlib.collections.PathCollection at 0x14782be3dc0>"
      ]
     },
     "execution_count": 7,
     "metadata": {},
     "output_type": "execute_result"
    },
    {
     "data": {
      "image/png": "[encoded data removed]",
      "text/plain": [
       "<Figure size 432x288 with 1 Axes>"
      ]
     },
     "metadata": {
      "needs_background": "light"
     },
     "output_type": "display_data"
    }
   ],
   "source": [
    "# y=x^2\n",
    "x = [int(i) for i in range(500)]\n",
    "y= list(map(lambda n : n**2, y))\n",
    "plt.scatter(x,y)"
   ]
  },
  {
   "cell_type": "code",
   "execution_count": 10,
   "id": "4231385e",
   "metadata": {},
   "outputs": [],
   "source": [
    "a=random.randint(1,50)\n",
    "b=random.random()"
   ]
  },
  {
   "cell_type": "code",
   "execution_count": 11,
   "id": "cfca6935",
   "metadata": {},
   "outputs": [
    {
     "name": "stdout",
     "output_type": "stream",
     "text": [
      "a= 16 b=0.9086210527435077\n"
     ]
    }
   ],
   "source": [
    "print(f\"a= {a} b={b}\")"
   ]
  },
  {
   "cell_type": "code",
   "execution_count": 17,
   "id": "f7febba7",
   "metadata": {},
   "outputs": [
    {
     "name": "stdout",
     "output_type": "stream",
     "text": [
      "LinregressResult(slope=-1.7512877115526118, intercept=103.10596026490066, rvalue=-0.758591524376155, pvalue=0.0026468739224561064, stderr=0.453536157607742, intercept_stderr=3.9034928101545123)\n"
     ]
    }
   ],
   "source": [
    "x = [5,7,8,7,2,17,2,9,4,11,12,9,6]\n",
    "y = [99,86,87,88,111,86,103,87,94,78,77,85,86]\n",
    "\n",
    "result = stats.linregress(x, y)\n",
    "print(result)"
   ]
  },
  {
   "cell_type": "code",
   "execution_count": 30,
   "id": "21f889bd",
   "metadata": {},
   "outputs": [
    {
     "data": {
      "image/png": "[encoded data removed]",
      "text/plain": [
       "<Figure size 432x288 with 1 Axes>"
      ]
     },
     "metadata": {
      "needs_background": "light"
     },
     "output_type": "display_data"
    }
   ],
   "source": [
    "x = [5,7,8,7,2,17,2,9,4,11,12,9,6]\n",
    "y = list(map(lambda z : z+5, x))\n",
    "         \n",
    "\n",
    "slope, intercept, r, p, std_err = stats.linregress(x, y)\n",
    "\n",
    "def myfunc(x):\n",
    "  return slope * x + intercept\n",
    "\n",
    "mymodel = list(map(myfunc, x))\n",
    "\n",
    "plt.scatter(x, y)\n",
    "plt.plot(x, mymodel)\n",
    "plt.show()"
   ]
  },
  {
   "cell_type": "code",
   "execution_count": 31,
   "id": "e27a21cc",
   "metadata": {},
   "outputs": [
    {
     "data": {
      "image/png": "[encoded data removed]",
      "text/plain": [
       "<Figure size 432x288 with 1 Axes>"
      ]
     },
     "metadata": {
      "needs_background": "light"
     },
     "output_type": "display_data"
    }
   ],
   "source": [
    "x = [5,7,8,7,2,17,2,9,4,11,12,9,6]\n",
    "y = [99,86,87,88,111,86,103,87,94,78,77,85,86]\n",
    "\n",
    "slope, intercept, r, p, std_err = stats.linregress(x, y)\n",
    "\n",
    "def myfunc(x):\n",
    "  return slope * x + intercept\n",
    "\n",
    "mymodel = list(map(myfunc, x))\n",
    "\n",
    "plt.scatter(x, y)\n",
    "plt.plot(x, mymodel)\n",
    "plt.show()"
   ]
  },
  {
   "cell_type": "code",
   "execution_count": 37,
   "id": "9371fd2b",
   "metadata": {},
   "outputs": [
    {
     "data": {
      "image/png": "[encoded data removed]",
      "text/plain": [
       "<Figure size 432x288 with 1 Axes>"
      ]
     },
     "metadata": {
      "needs_background": "light"
     },
     "output_type": "display_data"
    }
   ],
   "source": [
    "x1 = [5,7,8,7,2,17,2,9,4,11,12,9,6]\n",
    "y1 = [99,86,87,88,111,86,103,87,94,78,77,85,86]\n",
    "\n",
    "plt.scatter(x1,y1)\n",
    "plt.plot(x1,y1)\n",
    "plt.show()"
   ]
  },
  {
   "cell_type": "code",
   "execution_count": null,
   "id": "bc2759cf",
   "metadata": {},
   "outputs": [],
   "source": []
  }
 ],
 "metadata": {
  "kernelspec": {
   "display_name": "Python 3 (ipykernel)",
   "language": "python",
   "name": "python3"
  },
  "language_info": {
   "codemirror_mode": {
    "name": "ipython",
    "version": 3
   },
   "file_extension": ".py",
   "mimetype": "text/x-python",
   "name": "python",
   "nbconvert_exporter": "python",
   "pygments_lexer": "ipython3",
   "version": "3.9.12"
  }
 },
 "nbformat": 4,
 "nbformat_minor": 5
}
