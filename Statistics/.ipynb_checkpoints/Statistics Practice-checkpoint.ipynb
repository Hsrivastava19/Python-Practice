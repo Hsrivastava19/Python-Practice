{
 "cells": [
  {
   "cell_type": "code",
   "execution_count": 1,
   "id": "84722667",
   "metadata": {},
   "outputs": [],
   "source": [
    "import random\n",
    "from scipy import stats\n",
    "import numpy\n",
    "import matplotlib.pyplot as plt"
   ]
  },
  {
   "cell_type": "markdown",
   "id": "7c8c0c4e",
   "metadata": {},
   "source": [
    "# Trying Random Integer function"
   ]
  },
  {
   "cell_type": "code",
   "execution_count": 2,
   "id": "24211b53",
   "metadata": {},
   "outputs": [
    {
     "name": "stdout",
     "output_type": "stream",
     "text": [
      "15\n",
      "46\n",
      "32\n",
      "4\n",
      "3\n",
      "12\n",
      "46\n",
      "22\n",
      "12\n",
      "47\n",
      "10\n",
      "6\n",
      "14\n",
      "12\n",
      "1\n",
      "47\n",
      "34\n",
      "4\n",
      "35\n"
     ]
    }
   ],
   "source": [
    "while(True):\n",
    "    a= random.randint(1,50)\n",
    "    print(a)\n",
    "    if(a==35):\n",
    "        break\n",
    "\n"
   ]
  },
  {
   "cell_type": "code",
   "execution_count": 3,
   "id": "642bcd91",
   "metadata": {},
   "outputs": [
    {
     "name": "stdout",
     "output_type": "stream",
     "text": [
      "[4, 25, 37, 35, 39, 17, 0, 39, 21, 33]\n",
      "Mean: 25.0\n",
      "Median: 29.0\n",
      "Standard Deviation 13.586758259423032\n"
     ]
    }
   ],
   "source": [
    "values = [random.randint(0,50) for i in range(10)]\n",
    "print(values)\n",
    "average= numpy.mean(values)\n",
    "median= numpy.median(values)\n",
    "Std = numpy.std(values)\n",
    "print(f\"Mean: {average}\\nMedian: {median}\\nStandard Deviation {Std}\")"
   ]
  },
  {
   "cell_type": "markdown",
   "id": "2813f580",
   "metadata": {},
   "source": [
    "## Drawing a Histogram"
   ]
  },
  {
   "cell_type": "code",
   "execution_count": 4,
   "id": "b73d2f74",
   "metadata": {},
   "outputs": [
    {
     "data": {
      "text/plain": [
       "(array([1003., 1035.,  982.,  971., 1027.,  992.,  969.,  998., 1014.,\n",
       "        1000., 1001., 1023.,  977.,  965., 1082.,  995.,  973., 1019.,\n",
       "        1022., 1003., 1012.,  975.,  945.,  950., 1018.,  995., 1022.,\n",
       "        1043.,  995., 1009., 1033.,  914., 1057., 1004.,  998.,  979.,\n",
       "         992.,  969., 1002.,  995.,  961., 1047., 1017.,  997., 1004.,\n",
       "        1000., 1032., 1038., 1002.,  940.,  939., 1042., 1003.,  967.,\n",
       "         918., 1043., 1042., 1010.,  993., 1035., 1021.,  980., 1009.,\n",
       "        1079., 1030.,  992., 1001.,  972., 1097., 1030., 1042., 1018.,\n",
       "        1000.,  969.,  994., 1011., 1002., 1008., 1049.,  998.,  999.,\n",
       "         967.,  958., 1045.,  980.,  977.,  977., 1051., 1005.,  999.,\n",
       "        1025.,  964.,  989.,  957.,  933.,  981.,  966.,  968.,  981.,\n",
       "         988.]),\n",
       " array([1.00011663, 1.09011462, 1.18011261, 1.2701106 , 1.36010859,\n",
       "        1.45010658, 1.54010457, 1.63010256, 1.72010055, 1.81009854,\n",
       "        1.90009653, 1.99009452, 2.08009251, 2.1700905 , 2.26008849,\n",
       "        2.35008648, 2.44008447, 2.53008246, 2.62008045, 2.71007844,\n",
       "        2.80007643, 2.89007442, 2.98007241, 3.0700704 , 3.16006839,\n",
       "        3.25006638, 3.34006437, 3.43006236, 3.52006035, 3.61005834,\n",
       "        3.70005633, 3.79005432, 3.88005231, 3.9700503 , 4.06004829,\n",
       "        4.15004628, 4.24004427, 4.33004226, 4.42004025, 4.51003824,\n",
       "        4.60003623, 4.69003422, 4.78003221, 4.8700302 , 4.96002819,\n",
       "        5.05002618, 5.14002417, 5.23002216, 5.32002015, 5.41001814,\n",
       "        5.50001613, 5.59001412, 5.68001211, 5.7700101 , 5.86000809,\n",
       "        5.95000608, 6.04000407, 6.13000206, 6.22000005, 6.30999804,\n",
       "        6.39999603, 6.48999402, 6.57999201, 6.66999   , 6.75998799,\n",
       "        6.84998598, 6.93998397, 7.02998196, 7.11997995, 7.20997794,\n",
       "        7.29997593, 7.38997392, 7.47997191, 7.5699699 , 7.65996789,\n",
       "        7.74996588, 7.83996387, 7.92996186, 8.01995985, 8.10995784,\n",
       "        8.19995583, 8.28995382, 8.37995181, 8.4699498 , 8.55994779,\n",
       "        8.64994578, 8.73994377, 8.82994176, 8.91993975, 9.00993774,\n",
       "        9.09993573, 9.18993372, 9.27993171, 9.3699297 , 9.45992769,\n",
       "        9.54992568, 9.63992367, 9.72992166, 9.81991965, 9.90991764,\n",
       "        9.99991563]),\n",
       " <BarContainer object of 100 artists>)"
      ]
     },
     "execution_count": 4,
     "metadata": {},
     "output_type": "execute_result"
    },
    {
     "data": {
      "image/png": "[encoded data removed]",
      "text/plain": [
       "<Figure size 432x288 with 1 Axes>"
      ]
     },
     "metadata": {
      "needs_background": "light"
     },
     "output_type": "display_data"
    }
   ],
   "source": [
    "ds = numpy.random.uniform(1,10,100000)\n",
    "\n",
    "plt.hist(ds,100)"
   ]
  },
  {
   "cell_type": "markdown",
   "id": "aeb26078",
   "metadata": {},
   "source": [
    "## Normal Distribution"
   ]
  },
  {
   "cell_type": "code",
   "execution_count": 5,
   "id": "1cd72643",
   "metadata": {},
   "outputs": [
    {
     "name": "stdout",
     "output_type": "stream",
     "text": [
      "100000\n"
     ]
    },
    {
     "data": {
      "image/png": "[encoded data removed]",
      "text/plain": [
       "<Figure size 432x288 with 1 Axes>"
      ]
     },
     "metadata": {
      "needs_background": "light"
     },
     "output_type": "display_data"
    }
   ],
   "source": [
    "nd = numpy.random.normal(10,1,100000)\n",
    "print(len(nd))\n",
    "plt.hist(nd,100)\n",
    "plt.show()"
   ]
  },
  {
   "cell_type": "markdown",
   "id": "4aafdb7b",
   "metadata": {},
   "source": [
    "## Scatter Plot"
   ]
  },
  {
   "cell_type": "code",
   "execution_count": null,
   "id": "1913f91f",
   "metadata": {},
   "outputs": [],
   "source": [
    "x = "
   ]
  }
 ],
 "metadata": {
  "kernelspec": {
   "display_name": "Python 3 (ipykernel)",
   "language": "python",
   "name": "python3"
  },
  "language_info": {
   "codemirror_mode": {
    "name": "ipython",
    "version": 3
   },
   "file_extension": ".py",
   "mimetype": "text/x-python",
   "name": "python",
   "nbconvert_exporter": "python",
   "pygments_lexer": "ipython3",
   "version": "3.9.12"
  }
 },
 "nbformat": 4,
 "nbformat_minor": 5
}
