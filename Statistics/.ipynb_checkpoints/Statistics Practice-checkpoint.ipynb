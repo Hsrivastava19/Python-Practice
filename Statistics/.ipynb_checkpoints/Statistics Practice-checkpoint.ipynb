{
 "cells": [
  {
   "cell_type": "code",
   "execution_count": 1,
   "id": "84722667",
   "metadata": {},
   "outputs": [],
   "source": [
    "import random\n",
    "from scipy import stats\n",
    "import numpy\n",
    "import matplotlib.pyplot as plt"
   ]
  },
  {
   "cell_type": "markdown",
   "id": "7c8c0c4e",
   "metadata": {},
   "source": [
    "# Trying Random Integer function"
   ]
  },
  {
   "cell_type": "code",
   "execution_count": 2,
   "id": "24211b53",
   "metadata": {},
   "outputs": [
    {
     "name": "stdout",
     "output_type": "stream",
     "text": [
      "33\n",
      "24\n",
      "20\n",
      "8\n",
      "8\n",
      "17\n",
      "29\n",
      "47\n",
      "50\n",
      "11\n",
      "38\n",
      "45\n",
      "27\n",
      "13\n",
      "11\n",
      "25\n",
      "28\n",
      "4\n",
      "26\n",
      "35\n"
     ]
    }
   ],
   "source": [
    "while(True):\n",
    "    a= random.randint(1,50)\n",
    "    print(a)\n",
    "    if(a==35):\n",
    "        break\n",
    "\n"
   ]
  },
  {
   "cell_type": "code",
   "execution_count": 3,
   "id": "642bcd91",
   "metadata": {},
   "outputs": [
    {
     "name": "stdout",
     "output_type": "stream",
     "text": [
      "[20, 5, 41, 26, 30, 50, 14, 42, 30, 7]\n",
      "Mean: 26.5\n",
      "Median: 28.0\n",
      "Standard Deviation 14.382280764885659\n"
     ]
    }
   ],
   "source": [
    "values = [random.randint(0,50) for i in range(10)]\n",
    "print(values)\n",
    "average= numpy.mean(values)\n",
    "median= numpy.median(values)\n",
    "Std = numpy.std(values)\n",
    "print(f\"Mean: {average}\\nMedian: {median}\\nStandard Deviation {Std}\")"
   ]
  },
  {
   "cell_type": "markdown",
   "id": "2813f580",
   "metadata": {},
   "source": [
    "## Drawing a Histogram"
   ]
  },
  {
   "cell_type": "code",
   "execution_count": 4,
   "id": "b73d2f74",
   "metadata": {},
   "outputs": [
    {
     "data": {
      "text/plain": [
       "(array([ 938.,  970., 1028., 1024., 1011., 1026.,  982.,  999., 1006.,\n",
       "         951., 1029., 1011., 1051.,  967.,  939.,  968.,  946.,  957.,\n",
       "         969., 1018., 1086., 1030.,  998., 1017., 1007.,  995.,  966.,\n",
       "        1053., 1017., 1058.,  986., 1003.,  978., 1000.,  981., 1019.,\n",
       "         958., 1025.,  984., 1000., 1034., 1058., 1017., 1012., 1010.,\n",
       "         981., 1043.,  986., 1002.,  977.,  988., 1033., 1005.,  994.,\n",
       "        1013., 1012., 1023., 1023.,  961., 1051.,  983., 1013.,  955.,\n",
       "         979.,  989.,  980., 1009., 1025.,  994.,  981.,  986.,  985.,\n",
       "        1001., 1030.,  922.,  989.,  993., 1039.,  994., 1003., 1058.,\n",
       "         995., 1003., 1005., 1015.,  993., 1032.,  978., 1044.,  990.,\n",
       "         993., 1002.,  963., 1053.,  977., 1003.,  959.,  985.,  981.,\n",
       "         947.]),\n",
       " array([1.00001314, 1.0900114 , 1.18000966, 1.27000793, 1.36000619,\n",
       "        1.45000445, 1.54000271, 1.63000098, 1.71999924, 1.8099975 ,\n",
       "        1.89999576, 1.98999403, 2.07999229, 2.16999055, 2.25998882,\n",
       "        2.34998708, 2.43998534, 2.5299836 , 2.61998187, 2.70998013,\n",
       "        2.79997839, 2.88997665, 2.97997492, 3.06997318, 3.15997144,\n",
       "        3.2499697 , 3.33996797, 3.42996623, 3.51996449, 3.60996275,\n",
       "        3.69996102, 3.78995928, 3.87995754, 3.96995581, 4.05995407,\n",
       "        4.14995233, 4.23995059, 4.32994886, 4.41994712, 4.50994538,\n",
       "        4.59994364, 4.68994191, 4.77994017, 4.86993843, 4.95993669,\n",
       "        5.04993496, 5.13993322, 5.22993148, 5.31992974, 5.40992801,\n",
       "        5.49992627, 5.58992453, 5.6799228 , 5.76992106, 5.85991932,\n",
       "        5.94991758, 6.03991585, 6.12991411, 6.21991237, 6.30991063,\n",
       "        6.3999089 , 6.48990716, 6.57990542, 6.66990368, 6.75990195,\n",
       "        6.84990021, 6.93989847, 7.02989673, 7.119895  , 7.20989326,\n",
       "        7.29989152, 7.38988979, 7.47988805, 7.56988631, 7.65988457,\n",
       "        7.74988284, 7.8398811 , 7.92987936, 8.01987762, 8.10987589,\n",
       "        8.19987415, 8.28987241, 8.37987067, 8.46986894, 8.5598672 ,\n",
       "        8.64986546, 8.73986372, 8.82986199, 8.91986025, 9.00985851,\n",
       "        9.09985678, 9.18985504, 9.2798533 , 9.36985156, 9.45984983,\n",
       "        9.54984809, 9.63984635, 9.72984461, 9.81984288, 9.90984114,\n",
       "        9.9998394 ]),\n",
       " <BarContainer object of 100 artists>)"
      ]
     },
     "execution_count": 4,
     "metadata": {},
     "output_type": "execute_result"
    },
    {
     "data": {
      "image/png": "[encoded data removed]",
      "text/plain": [
       "<Figure size 432x288 with 1 Axes>"
      ]
     },
     "metadata": {
      "needs_background": "light"
     },
     "output_type": "display_data"
    }
   ],
   "source": [
    "ds = numpy.random.uniform(1,10,100000)\n",
    "\n",
    "plt.hist(ds,100)"
   ]
  },
  {
   "cell_type": "markdown",
   "id": "aeb26078",
   "metadata": {},
   "source": [
    "## Normal Distribution"
   ]
  },
  {
   "cell_type": "code",
   "execution_count": 5,
   "id": "1cd72643",
   "metadata": {},
   "outputs": [
    {
     "name": "stdout",
     "output_type": "stream",
     "text": [
      "100000\n"
     ]
    },
    {
     "data": {
      "image/png": "[encoded data removed]",
      "text/plain": [
       "<Figure size 432x288 with 1 Axes>"
      ]
     },
     "metadata": {
      "needs_background": "light"
     },
     "output_type": "display_data"
    }
   ],
   "source": [
    "nd = numpy.random.normal(10,1,100000)\n",
    "print(len(nd))\n",
    "plt.hist(nd,100)\n",
    "plt.show()"
   ]
  },
  {
   "cell_type": "markdown",
   "id": "4aafdb7b",
   "metadata": {},
   "source": [
    "## Scatter Plot"
   ]
  },
  {
   "cell_type": "code",
   "execution_count": 40,
   "id": "1913f91f",
   "metadata": {},
   "outputs": [
    {
     "data": {
      "text/plain": [
       "<matplotlib.collections.PathCollection at 0x289759b8e50>"
      ]
     },
     "execution_count": 40,
     "metadata": {},
     "output_type": "execute_result"
    },
    {
     "data": {
      "image/png": "[encoded data removed]",
      "text/plain": [
       "<Figure size 432x288 with 1 Axes>"
      ]
     },
     "metadata": {
      "needs_background": "light"
     },
     "output_type": "display_data"
    }
   ],
   "source": [
    "# x=y^2\n",
    "y = [int(i) for i in range(500)]\n",
    "x= list(map(lambda n : n**2, y))\n",
    "plt.scatter(x,y)"
   ]
  },
  {
   "cell_type": "code",
   "execution_count": 41,
   "id": "71304e52",
   "metadata": {},
   "outputs": [
    {
     "data": {
      "text/plain": [
       "<matplotlib.collections.PathCollection at 0x28975a165b0>"
      ]
     },
     "execution_count": 41,
     "metadata": {},
     "output_type": "execute_result"
    },
    {
     "data": {
      "image/png": "[encoded data removed]",
      "text/plain": [
       "<Figure size 432x288 with 1 Axes>"
      ]
     },
     "metadata": {
      "needs_background": "light"
     },
     "output_type": "display_data"
    }
   ],
   "source": [
    "# y=x^2\n",
    "x = [int(i) for i in range(500)]\n",
    "y= list(map(lambda n : n**2, y))\n",
    "plt.scatter(x,y)"
   ]
  },
  {
   "cell_type": "code",
   "execution_count": null,
   "id": "4231385e",
   "metadata": {},
   "outputs": [],
   "source": []
  },
  {
   "cell_type": "code",
   "execution_count": null,
   "id": "cfca6935",
   "metadata": {},
   "outputs": [],
   "source": []
  }
 ],
 "metadata": {
  "kernelspec": {
   "display_name": "Python 3 (ipykernel)",
   "language": "python",
   "name": "python3"
  },
  "language_info": {
   "codemirror_mode": {
    "name": "ipython",
    "version": 3
   },
   "file_extension": ".py",
   "mimetype": "text/x-python",
   "name": "python",
   "nbconvert_exporter": "python",
   "pygments_lexer": "ipython3",
   "version": "3.9.12"
  }
 },
 "nbformat": 4,
 "nbformat_minor": 5
}
